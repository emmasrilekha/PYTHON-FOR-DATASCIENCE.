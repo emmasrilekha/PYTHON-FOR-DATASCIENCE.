{
  "nbformat": 4,
  "nbformat_minor": 0,
  "metadata": {
    "colab": {
      "provenance": []
    },
    "kernelspec": {
      "name": "python3",
      "display_name": "Python 3"
    },
    "language_info": {
      "name": "python"
    }
  },
  "cells": [
    {
      "cell_type": "markdown",
      "source": [
        "Python is a popular programming language. It was created by Guido van Rossum, and released in 1991."
      ],
      "metadata": {
        "id": "qjCCBhqq4yd5"
      }
    },
    {
      "cell_type": "code",
      "execution_count": 1,
      "metadata": {
        "colab": {
          "base_uri": "https://localhost:8080/"
        },
        "id": "LPz4bFHs4b18",
        "outputId": "b2478fd9-d0fe-41b2-cd63-cd4506eb5ccc"
      },
      "outputs": [
        {
          "output_type": "stream",
          "name": "stdout",
          "text": [
            "Hello World!\n"
          ]
        }
      ],
      "source": [
        "print(\"Hello World!\")"
      ]
    },
    {
      "cell_type": "code",
      "source": [
        "#simple program\n",
        "if 5>2:\n",
        "  print(\"Five is greater than two!\")"
      ],
      "metadata": {
        "colab": {
          "base_uri": "https://localhost:8080/"
        },
        "id": "yenm3W5B5OT1",
        "outputId": "32a04820-e7ed-46b8-fe5c-cdcc82f7fa4a"
      },
      "execution_count": 2,
      "outputs": [
        {
          "output_type": "stream",
          "name": "stdout",
          "text": [
            "Five is greater than two!\n"
          ]
        }
      ]
    },
    {
      "cell_type": "code",
      "source": [
        "if 5>2:\n",
        " print(\"Five is greater than two!\")\n",
        "if 5>2:\n",
        "        print(\"Five is greater than two!\")"
      ],
      "metadata": {
        "colab": {
          "base_uri": "https://localhost:8080/"
        },
        "id": "S2E5Wf1P5Wn1",
        "outputId": "6eae67a2-8f72-4e0e-f53d-ef05fdd1b765"
      },
      "execution_count": 3,
      "outputs": [
        {
          "output_type": "stream",
          "name": "stdout",
          "text": [
            "Five is greater than two!\n",
            "Five is greater than two!\n"
          ]
        }
      ]
    },
    {
      "cell_type": "markdown",
      "source": [
        "COMMENTS"
      ],
      "metadata": {
        "id": "T7Gd2tHH9fdQ"
      }
    },
    {
      "cell_type": "code",
      "source": [
        "#EMMA"
      ],
      "metadata": {
        "id": "AhinzitH9iHn"
      },
      "execution_count": 17,
      "outputs": []
    },
    {
      "cell_type": "code",
      "source": [
        "\"\"\"\n",
        "  THIS IS SRILEKHA EMMA\n",
        "  PURSUING MASTERS IN DATA SCIENCE\n",
        "  CURRENTLY PREPARATING FOR MY GOAL\n",
        "  TO BECOME A DATA SCIENTIST\n",
        "\"\"\"\n"
      ],
      "metadata": {
        "colab": {
          "base_uri": "https://localhost:8080/",
          "height": 36
        },
        "id": "UkBEAQ8S9kT3",
        "outputId": "7c77ba67-9510-46cd-e621-309a8b4003c9"
      },
      "execution_count": 16,
      "outputs": [
        {
          "output_type": "execute_result",
          "data": {
            "text/plain": [
              "'\\n  THIS IS SRILEKHA EMMA\\n  PURSUING MASTERS IN DATA SCIENCE\\n  CURRENTLY PREPARATING FOR MY GOAL\\n  TO BECOME A DATA SCIENTIST\\n'"
            ],
            "application/vnd.google.colaboratory.intrinsic+json": {
              "type": "string"
            }
          },
          "metadata": {},
          "execution_count": 16
        }
      ]
    },
    {
      "cell_type": "markdown",
      "source": [
        "1. Variables and Data Types"
      ],
      "metadata": {
        "id": "Z2xthWAi6FTg"
      }
    },
    {
      "cell_type": "code",
      "source": [
        "# Numbers\n",
        "x = 10         # Integer\n",
        "y = 3.14       # Float\n",
        "\n",
        "# Strings\n",
        "name = \"Alice\"\n",
        "\n",
        "# Boolean\n",
        "is_valid = True\n",
        "\n",
        "\n",
        "print(x)\n",
        "print(y)\n",
        "print(name)\n",
        "print(is_valid)"
      ],
      "metadata": {
        "colab": {
          "base_uri": "https://localhost:8080/"
        },
        "id": "wRedsTzm5ZKU",
        "outputId": "93e5aad9-5400-4058-9912-389732cee4cc"
      },
      "execution_count": 6,
      "outputs": [
        {
          "output_type": "stream",
          "name": "stdout",
          "text": [
            "10\n",
            "3.14\n",
            "Alice\n",
            "True\n"
          ]
        }
      ]
    },
    {
      "cell_type": "markdown",
      "source": [
        "2. Basic Operations"
      ],
      "metadata": {
        "id": "YnmWudD16JmD"
      }
    },
    {
      "cell_type": "code",
      "source": [
        "# Arithmetic\n",
        "a = 5 + 3       # 8\n",
        "b = 10 / 2      # 5.0\n",
        "c = 2 ** 3      # 8\n",
        "\n",
        "# String operations\n",
        "greeting = \"Hello \" + name   # \"Hello Alice\"\n",
        "repeated_hello = \"Hello \" * 3  # \"Hello Hello Hello \"\n",
        "\n",
        "print(a)\n",
        "print(b)\n",
        "print(c)\n",
        "print(greeting)\n",
        "print(repeated_hello)\n"
      ],
      "metadata": {
        "colab": {
          "base_uri": "https://localhost:8080/"
        },
        "id": "CmT_116t55Xn",
        "outputId": "f2775579-9ff2-44d0-b3cf-d29fe2f6a9a6"
      },
      "execution_count": 8,
      "outputs": [
        {
          "output_type": "stream",
          "name": "stdout",
          "text": [
            "8\n",
            "5.0\n",
            "8\n",
            "Hello Alice\n",
            "Hello Hello Hello \n"
          ]
        }
      ]
    },
    {
      "cell_type": "markdown",
      "source": [
        "3.control flow statements"
      ],
      "metadata": {
        "id": "Wm0yAKes7o0z"
      }
    },
    {
      "cell_type": "markdown",
      "source": [
        "a.if else-statement"
      ],
      "metadata": {
        "id": "A9t557-E7uhC"
      }
    },
    {
      "cell_type": "code",
      "source": [
        "  if x > 5:\n",
        "    print(\"x is greater than 5\")\n",
        "elif x == 5:\n",
        "    print(\"x is 5\")\n",
        "else:\n",
        "    print(\"x is less than 5\")\n"
      ],
      "metadata": {
        "colab": {
          "base_uri": "https://localhost:8080/"
        },
        "id": "G8HHy3aE6ONC",
        "outputId": "c018533a-107e-432e-957d-a53faff81764"
      },
      "execution_count": 9,
      "outputs": [
        {
          "output_type": "stream",
          "name": "stdout",
          "text": [
            "x is greater than 5\n"
          ]
        }
      ]
    },
    {
      "cell_type": "markdown",
      "source": [
        "b.for loop"
      ],
      "metadata": {
        "id": "i48eyz6f7zRl"
      }
    },
    {
      "cell_type": "code",
      "source": [
        "for i in range(5):\n",
        "    print(i)  # prints 0 to 4\n"
      ],
      "metadata": {
        "colab": {
          "base_uri": "https://localhost:8080/"
        },
        "id": "49fZ3RQ67J3o",
        "outputId": "c3ff8ce9-4ac7-4d31-da96-bf02c919702e"
      },
      "execution_count": 10,
      "outputs": [
        {
          "output_type": "stream",
          "name": "stdout",
          "text": [
            "0\n",
            "1\n",
            "2\n",
            "3\n",
            "4\n"
          ]
        }
      ]
    },
    {
      "cell_type": "markdown",
      "source": [
        "c.while loop"
      ],
      "metadata": {
        "id": "dradVIDJ72c4"
      }
    },
    {
      "cell_type": "code",
      "source": [
        "n = 0\n",
        "while n < 5:\n",
        "    print(n)\n",
        "    n += 1\n"
      ],
      "metadata": {
        "colab": {
          "base_uri": "https://localhost:8080/"
        },
        "id": "7O1gL4GP7NOy",
        "outputId": "8c13678d-023a-40ba-b4f3-de1a883900af"
      },
      "execution_count": 11,
      "outputs": [
        {
          "output_type": "stream",
          "name": "stdout",
          "text": [
            "0\n",
            "1\n",
            "2\n",
            "3\n",
            "4\n"
          ]
        }
      ]
    },
    {
      "cell_type": "markdown",
      "source": [
        "5.FUNCTIONS"
      ],
      "metadata": {
        "id": "nFfvY1Zh7mev"
      }
    },
    {
      "cell_type": "code",
      "source": [
        "def greet(name):        #function definition\n",
        "    return f\"Hello, {name}!\"\n",
        "\n",
        "print(greet(\"Alice\"))  # function calling\n"
      ],
      "metadata": {
        "colab": {
          "base_uri": "https://localhost:8080/"
        },
        "id": "JmntRWUC7Q1s",
        "outputId": "c4d8e96e-0088-43b7-bbba-beb6c6e1aa91"
      },
      "execution_count": 13,
      "outputs": [
        {
          "output_type": "stream",
          "name": "stdout",
          "text": [
            "Hello, Alice!\n"
          ]
        }
      ]
    },
    {
      "cell_type": "markdown",
      "source": [
        "6.Data Structures"
      ],
      "metadata": {
        "id": "c0CfadXD8W4j"
      }
    },
    {
      "cell_type": "markdown",
      "source": [
        "A.LIST-[  ]"
      ],
      "metadata": {
        "id": "iZECw2wm8jP4"
      }
    },
    {
      "cell_type": "code",
      "source": [
        "FRUITS = ['apple', 'banana', 'cherry']\n",
        "print(FRUITS)"
      ],
      "metadata": {
        "colab": {
          "base_uri": "https://localhost:8080/"
        },
        "id": "V5YZEaW07Wbn",
        "outputId": "cefc9b43-933a-4264-e1ed-4f8da04891a6"
      },
      "execution_count": 14,
      "outputs": [
        {
          "output_type": "stream",
          "name": "stdout",
          "text": [
            "['apple', 'banana', 'cherry']\n"
          ]
        }
      ]
    },
    {
      "cell_type": "markdown",
      "source": [
        "B.TUPLE-"
      ],
      "metadata": {
        "id": "0ysV0sRv9EAB"
      }
    },
    {
      "cell_type": "code",
      "source": [
        " point = (10, 20)\n",
        "print(point)\n",
        "point = (18,32)\n",
        "print(point)"
      ],
      "metadata": {
        "colab": {
          "base_uri": "https://localhost:8080/"
        },
        "id": "vH6M9ee79CeB",
        "outputId": "bcc2120d-afda-4681-e7d9-d2d69b1d20b2"
      },
      "execution_count": 21,
      "outputs": [
        {
          "output_type": "stream",
          "name": "stdout",
          "text": [
            "(10, 20)\n",
            "(18, 32)\n"
          ]
        }
      ]
    },
    {
      "cell_type": "markdown",
      "source": [
        "C.Dictionaries"
      ],
      "metadata": {
        "id": "ITqiXXIyAU5X"
      }
    },
    {
      "cell_type": "code",
      "source": [
        "person = {\"name\": \"Alice\", \"age\": 25}\n",
        "print(person[\"name\"])\n",
        "frnd = {\"name\":\"srilekha\",\"age\":21}\n",
        "print(frnd[\"name\"])\n",
        "enemy = {\"name\":\"lavnya reddy\",\"age\":25}\n",
        "print(enemy[\"name\"])\n",
        "daddy ={\"name\":\"sathaiah\",\"age\":\"45\"}\n",
        "print(daddy[\"name\"])\n",
        "amma = {\"name\":\"punya\",\"age\":\"41\"}\n",
        "print(amma[\"name\"])"
      ],
      "metadata": {
        "colab": {
          "base_uri": "https://localhost:8080/"
        },
        "id": "gcG-utnW-IdP",
        "outputId": "f59460c0-27d6-4874-e54b-68a8a8542f13"
      },
      "execution_count": 27,
      "outputs": [
        {
          "output_type": "stream",
          "name": "stdout",
          "text": [
            "Alice\n",
            "srilekha\n",
            "lavnya reddy\n",
            "sathaiah\n",
            "punya\n"
          ]
        }
      ]
    },
    {
      "cell_type": "markdown",
      "source": [
        "## Difference Between Python Data Structures\n",
        "\n",
        "| Data Structure | Description                          | Ordered | Mutable | Allows Duplicates | Example                         |\n",
        "|----------------|--------------------------------------|---------|---------|-------------------|----------------------------------|\n",
        "| **List**       | Collection of items                  |  Yes  |  Yes  |  Yes            | `fruits = ['apple', 'banana']`   |\n",
        "| **Tuple**      | Immutable sequence of items          |  Yes  |  No   |  Yes            | `point = (10, 20)`               |\n",
        "| **Set**        | Unordered collection of unique items |  No   |  Yes  | No             | `unique = {1, 2, 3}`             |\n",
        "| **Dictionary** | Key-value pairs                      |  Yes  |  Yes  | Keys must be unique | `person = {'name': 'Alice'}` |\n",
        "\n",
        "Notes:\n",
        "**Mutable** means you can change the data (add, remove, modify).\n",
        "- **Immutable** means data cannot be changed after creation.\n",
        "- **Ordered** means elements maintain their insertion order (true for lists, tuples, and dictionaries in Python 3.7+).\n",
        "- **Duplicates** are allowed in lists and tuples, but **sets and dictionary keys must be unique**.\n",
        "\n"
      ],
      "metadata": {
        "id": "7Rg_f0RrBH-V"
      }
    },
    {
      "cell_type": "markdown",
      "source": [
        "\n",
        "\n",
        "SLICING\n",
        "\n",
        "sequence[start:stop:step]\n",
        "\n"
      ],
      "metadata": {
        "id": "qbhZSxO8B3V_"
      }
    },
    {
      "cell_type": "code",
      "source": [
        "my_list = [0, 1, 2, 3, 4, 5, 6]\n",
        "\n",
        "print(my_list[1:4])      # [1, 2, 3]\n",
        "print(my_list[:3])       # [0, 1, 2]\n",
        "print(my_list[3:])       # [3, 4, 5, 6]\n",
        "print(my_list[::2])      # [0, 2, 4, 6]\n",
        "print(my_list[::-1])     # [6, 5, 4, 3, 2, 1, 0] (reversed)\n"
      ],
      "metadata": {
        "colab": {
          "base_uri": "https://localhost:8080/"
        },
        "id": "fcVxwmT8-SO8",
        "outputId": "2524b411-a098-481a-97f1-897a721f91d8"
      },
      "execution_count": 29,
      "outputs": [
        {
          "output_type": "stream",
          "name": "stdout",
          "text": [
            "[1, 2, 3]\n",
            "[0, 1, 2]\n",
            "[3, 4, 5, 6]\n",
            "[0, 2, 4, 6]\n",
            "[6, 5, 4, 3, 2, 1, 0]\n"
          ]
        }
      ]
    },
    {
      "cell_type": "markdown",
      "source": [
        "append() is used to add a single element to the end of a list."
      ],
      "metadata": {
        "id": "glCWcLwVC9FA"
      }
    },
    {
      "cell_type": "code",
      "source": [
        "fruits = ['apple', 'banana']\n",
        "fruits.append('cherry')\n",
        "print(fruits)  # ['apple', 'banana', 'cherry']\n"
      ],
      "metadata": {
        "colab": {
          "base_uri": "https://localhost:8080/"
        },
        "id": "afKmoQspCd-s",
        "outputId": "c1df6dbf-f3e2-4237-a3b5-867133ff4570"
      },
      "execution_count": 30,
      "outputs": [
        {
          "output_type": "stream",
          "name": "stdout",
          "text": [
            "['apple', 'banana', 'cherry']\n"
          ]
        }
      ]
    },
    {
      "cell_type": "markdown",
      "source": [
        "FUNCTIONS AND SCOPE"
      ],
      "metadata": {
        "id": "PqxzoCmdDD6w"
      }
    },
    {
      "cell_type": "code",
      "source": [
        "def greet(name):\n",
        "    return f\"Hello, {name}!\"\n",
        "\n",
        "print(greet(\"Alice\"))  # FUNCTION CALLING\n"
      ],
      "metadata": {
        "colab": {
          "base_uri": "https://localhost:8080/"
        },
        "id": "5DQVaTQqDAXl",
        "outputId": "2e1a2e38-acc4-4d7e-d2ab-2cab0f981d10"
      },
      "execution_count": 31,
      "outputs": [
        {
          "output_type": "stream",
          "name": "stdout",
          "text": [
            "Hello, Alice!\n"
          ]
        }
      ]
    },
    {
      "cell_type": "markdown",
      "source": [
        "Parameters and Return Values:"
      ],
      "metadata": {
        "id": "tz1OudgVDTVh"
      }
    },
    {
      "cell_type": "code",
      "source": [
        "def add(a, b):\n",
        "    return a + b\n",
        "\n",
        "print(add(3, 5))  # 8\n"
      ],
      "metadata": {
        "colab": {
          "base_uri": "https://localhost:8080/"
        },
        "id": "43RoiU6eDR63",
        "outputId": "e850f985-421a-45e7-fe9e-2d8885cb8cae"
      },
      "execution_count": 32,
      "outputs": [
        {
          "output_type": "stream",
          "name": "stdout",
          "text": [
            "8\n"
          ]
        }
      ]
    },
    {
      "cell_type": "markdown",
      "source": [
        "Variable Scope:\n",
        "\n",
        "\n",
        "Local: Defined inside a function\n",
        "\n",
        "Global: Defined outside any function"
      ],
      "metadata": {
        "id": "OOlH7luiDZyF"
      }
    },
    {
      "cell_type": "code",
      "source": [
        "x = 10  # Global\n",
        "\n",
        "def example():\n",
        "    x = 5  # Local to function\n",
        "    print(x)\n",
        "\n",
        "example()    # 5\n",
        "print(x)     # 10\n"
      ],
      "metadata": {
        "id": "qRzOBZ1-DOWg"
      },
      "execution_count": null,
      "outputs": []
    },
    {
      "cell_type": "markdown",
      "source": [
        "Using the global keyword to modify a global variable inside a function."
      ],
      "metadata": {
        "id": "goTVr2eaDqGL"
      }
    },
    {
      "cell_type": "code",
      "source": [
        "x = 10  # Global\n",
        "\n",
        "def example():\n",
        "    global x\n",
        "    x = 5  # Now this modifies the global x\n",
        "    print(x)\n",
        "\n",
        "example()    # 5\n",
        "print(x)     # 5 (the global x has been modified)\n",
        "\n",
        "\n",
        "\n",
        "\n",
        "#error:o fix this, you should declare x as global on one line and then assign the value on the next line"
      ],
      "metadata": {
        "colab": {
          "base_uri": "https://localhost:8080/"
        },
        "id": "G6q3hMd5DpSS",
        "outputId": "18e013f5-42a0-409b-e5df-a24a1ed537e6"
      },
      "execution_count": 34,
      "outputs": [
        {
          "output_type": "stream",
          "name": "stdout",
          "text": [
            "5\n",
            "5\n"
          ]
        }
      ]
    },
    {
      "cell_type": "code",
      "source": [],
      "metadata": {
        "id": "tVyKMRaVDzPb"
      },
      "execution_count": null,
      "outputs": []
    }
  ]
}