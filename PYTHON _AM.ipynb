{
 "cells": [
  {
   "cell_type": "code",
   "execution_count": 22,
   "id": "d413a701-ac48-4e21-a8a4-7bc81656fa94",
   "metadata": {},
   "outputs": [
    {
     "name": "stdout",
     "output_type": "stream",
     "text": [
      "hello\n"
     ]
    }
   ],
   "source": [
    "print(\"hello\")"
   ]
  },
  {
   "cell_type": "code",
   "execution_count": 24,
   "id": "e5e8716c-fb2a-41c3-9345-7db3baf034da",
   "metadata": {},
   "outputs": [
    {
     "name": "stdout",
     "output_type": "stream",
     "text": [
      "a= 10\n",
      "b= 20\n",
      "name = emma\n",
      "name is emma and you have10 and 20 amount\n",
      "wel\n"
     ]
    }
   ],
   "source": [
    "a=10\n",
    "b=20\n",
    "name=\"emma\"\n",
    "\n",
    "print('a=',a)\n",
    "print('b=',b)\n",
    "print('name =',name)\n",
    "print(f\"name is {name} and you have{a} and {b} amount\")\n",
    "print(\"wel\")"
   ]
  },
  {
   "cell_type": "code",
   "execution_count": 26,
   "id": "b3effb16-2522-48ce-a7eb-67ab05e6fe74",
   "metadata": {},
   "outputs": [
    {
     "name": "stdout",
     "output_type": "stream",
     "text": [
      "<class 'int'>\n"
     ]
    }
   ],
   "source": [
    "print(type(a))"
   ]
  },
  {
   "cell_type": "code",
   "execution_count": 28,
   "id": "f87c41bd-c29b-449d-9a9b-cb506ed8499f",
   "metadata": {},
   "outputs": [
    {
     "name": "stdout",
     "output_type": "stream",
     "text": [
      "<class 'int'>\n"
     ]
    }
   ],
   "source": [
    "print(type(b))"
   ]
  },
  {
   "cell_type": "code",
   "execution_count": 30,
   "id": "a0b8fa96-7577-4b62-8578-ec8547434e74",
   "metadata": {},
   "outputs": [
    {
     "name": "stdout",
     "output_type": "stream",
     "text": [
      "<class 'str'>\n"
     ]
    }
   ],
   "source": [
    "print(type(name))"
   ]
  },
  {
   "cell_type": "code",
   "execution_count": 1,
   "id": "47b6d0a4-b499-42a9-9de2-1d7f46beff41",
   "metadata": {},
   "outputs": [
    {
     "name": "stdout",
     "output_type": "stream",
     "text": [
      "emmasrilekha\n"
     ]
    }
   ],
   "source": [
    "fname = \"emma\"\n",
    "lname =\"srilekha\"\n",
    "name= fname + lname\n",
    "print(name)"
   ]
  },
  {
   "cell_type": "code",
   "execution_count": 2,
   "id": "2968e657-6e4b-4bb8-9bda-2f4df0283ef4",
   "metadata": {},
   "outputs": [
    {
     "data": {
      "text/plain": [
       "'e'"
      ]
     },
     "execution_count": 2,
     "metadata": {},
     "output_type": "execute_result"
    }
   ],
   "source": [
    "name[-4]"
   ]
  },
  {
   "cell_type": "code",
   "execution_count": 3,
   "id": "3c37da7a-36ce-497c-b258-7512afbea2cd",
   "metadata": {},
   "outputs": [
    {
     "name": "stdin",
     "output_type": "stream",
     "text": [
      "enter your input emma\n"
     ]
    },
    {
     "name": "stdout",
     "output_type": "stream",
     "text": [
      "emma\n"
     ]
    }
   ],
   "source": [
    "m=input(\"enter your input\")\n",
    "print(m)"
   ]
  },
  {
   "cell_type": "code",
   "execution_count": 8,
   "id": "4d7447d7-2856-4718-9ae0-1e29ac971c9b",
   "metadata": {},
   "outputs": [
    {
     "name": "stdout",
     "output_type": "stream",
     "text": [
      "5\n"
     ]
    }
   ],
   "source": [
    "m=\"emmma\"\n",
    "size = len(m)\n",
    "print(size)"
   ]
  },
  {
   "cell_type": "code",
   "execution_count": 11,
   "id": "35de2757-5f7a-4f46-8363-d8c7ee3157a5",
   "metadata": {},
   "outputs": [
    {
     "name": "stdin",
     "output_type": "stream",
     "text": [
      "enter your input emma srilekha\n",
      "enter your start index 2\n",
      "enter your end index 9\n"
     ]
    },
    {
     "name": "stdout",
     "output_type": "stream",
     "text": [
      "your message emma srilekha\n",
      "size of msg  13\n",
      "result= ma sril\n",
      "result 2 m rl\n"
     ]
    }
   ],
   "source": [
    "msg = input(\"enter your input\")\n",
    "s_m = len(msg)\n",
    "start = int(input(\"enter your start index\"))\n",
    "end = int(input(\"enter your end index\"))\n",
    "result = msg[start : end ]\n",
    "result1 = msg[start: end:2]\n",
    "print(\"your message\",msg)\n",
    "print(\"size of msg \",s_m)\n",
    "print(\"result=\",result)\n",
    "print(\"result 2\",result1)"
   ]
  },
  {
   "cell_type": "code",
   "execution_count": 3,
   "id": "01f7f572-922a-4d38-bab9-77727e072830",
   "metadata": {},
   "outputs": [
    {
     "name": "stdout",
     "output_type": "stream",
     "text": [
      "f{n} is even \n"
     ]
    }
   ],
   "source": [
    "#DAY_3\n",
    "#CONTROL STATEMENTS-IF,IF ELIF\n",
    "\n",
    "\n",
    "n =10\n",
    "if n%2 == 0:\n",
    "    print(\"f{n} is even \")\n"
   ]
  },
  {
   "cell_type": "code",
   "execution_count": 4,
   "id": "844d4edb-b038-4374-8bbd-f67e14816322",
   "metadata": {},
   "outputs": [
    {
     "name": "stdout",
     "output_type": "stream",
     "text": [
      "10 is even \n"
     ]
    }
   ],
   "source": [
    "#did a mistake above at f \"\"\n",
    "n =10\n",
    "if n%2 == 0:\n",
    "    print(f\"{n} is even \")\n",
    "\n"
   ]
  },
  {
   "cell_type": "code",
   "execution_count": 6,
   "id": "ad1ad01f-1e91-4229-8d5c-3ce1bc60447b",
   "metadata": {},
   "outputs": [
    {
     "name": "stdin",
     "output_type": "stream",
     "text": [
      "enter your number1 11\n",
      "enter your number2 23\n",
      "enter your number3 25\n"
     ]
    },
    {
     "name": "stdout",
     "output_type": "stream",
     "text": [
      "no even numbers / Given number is odd number\n"
     ]
    }
   ],
   "source": [
    "n1 = int(input(\"enter your number1\"))\n",
    "n2 = int(input(\"enter your number2\"))\n",
    "n3 = int(input(\"enter your number3\"))\n",
    "\n",
    "\n",
    "\n",
    "if n1%2 == 0:\n",
    "    print(f\"{n1} is even \")\n",
    "elif n2%2 == 0:\n",
    "    print(f\"{n2} is even \")\n",
    "elif n3%2 == 0:\n",
    "    print(f\"{n3} is even \")\n",
    "else:\n",
    "    print(\"no even numbers / Given number is odd number\")\n",
    "    \n",
    "\n",
    "    \n"
   ]
  },
  {
   "cell_type": "code",
   "execution_count": 7,
   "id": "5186b146-6fbd-4a4b-93a1-41b9e2a4978b",
   "metadata": {},
   "outputs": [
    {
     "name": "stdin",
     "output_type": "stream",
     "text": [
      "enter your number1 10\n",
      "enter your number2 11\n",
      "enter your number3 12\n"
     ]
    },
    {
     "name": "stdout",
     "output_type": "stream",
     "text": [
      "12 is largest \n"
     ]
    }
   ],
   "source": [
    "#multiple conditions\n",
    "#and or  not\n",
    "n1 = int(input(\"enter your number1\"))\n",
    "n2 = int(input(\"enter your number2\"))\n",
    "n3 = int(input(\"enter your number3\"))\n",
    "\n",
    "\n",
    "#AND PRACTICAL-where two conditions should be true\n",
    "\n",
    "if n1>n2 and n1>n3:\n",
    "    print(f\"{n1} is largest \")\n",
    "elif n2>n3 and n2>n1:\n",
    "    print(f\"{n2} is largest \")\n",
    "elif n3>n1 and n3>n2:\n",
    "    print(f\"{n3} is largest \")\n",
    "else:\n",
    "    print(\"there are no larger numbers\")\n",
    "    "
   ]
  },
  {
   "cell_type": "code",
   "execution_count": 8,
   "id": "c9d8b496-84c2-47b1-8db2-1314c14c0a51",
   "metadata": {},
   "outputs": [
    {
     "name": "stdin",
     "output_type": "stream",
     "text": [
      "enter your number1 10\n",
      "enter your number2 11\n",
      "enter your number3 12\n"
     ]
    },
    {
     "name": "stdout",
     "output_type": "stream",
     "text": [
      "11 is largest \n"
     ]
    }
   ],
   "source": [
    "n1 = int(input(\"enter your number1\"))\n",
    "n2 = int(input(\"enter your number2\"))\n",
    "n3 = int(input(\"enter your number3\"))\n",
    "\n",
    "\n",
    "#OR PRACTICAL-where Atleast one  condition should be true\n",
    "\n",
    "if n1>n2 or n1>n3:\n",
    "    print(f\"{n1} is largest \")\n",
    "elif n2>n3 or n2>n1:\n",
    "    print(f\"{n2} is largest \")\n",
    "elif n3>n1 or n3>n2:\n",
    "    print(f\"{n3} is largest \")\n",
    "else:\n",
    "    print(\"there are no larger numbers\")\n",
    "    "
   ]
  },
  {
   "cell_type": "code",
   "execution_count": 11,
   "id": "337de179-b934-43c9-a96a-7286d6a89eae",
   "metadata": {},
   "outputs": [
    {
     "name": "stdin",
     "output_type": "stream",
     "text": [
      "enter your number1 10\n",
      "enter your number2 11\n",
      "enter your number3 12\n"
     ]
    },
    {
     "name": "stdout",
     "output_type": "stream",
     "text": [
      "GIVEN NUMBERS ARE NOT EQUAL  \n"
     ]
    }
   ],
   "source": [
    "n1 = int(input(\"enter your number1\"))\n",
    "n2 = int(input(\"enter your number2\"))\n",
    "n3 = int(input(\"enter your number3\"))\n",
    "\n",
    "\n",
    "#NOT PRACTICAL-where Atleast one  condition should be true\n",
    "\n",
    "if n1!=n2 or n1!=n3:\n",
    "    print(f\"GIVEN NUMBERS ARE NOT EQUAL  \")\n",
    "elif n2!=n3 or n2!=n1:\n",
    "    print(f\"GIVEN NUMBERS ARE NOT EQUAL  \")\n",
    "elif n3!=n1 or n3!=n2:\n",
    "    print(f\"GIVEN NUMBERS ARE NOT EQUAL  \")\n",
    "else:\n",
    "    print(\"THERE ARE NO NUMBERS ARE EQUAL\")\n",
    "    "
   ]
  },
  {
   "cell_type": "code",
   "execution_count": 15,
   "id": "68b49101-66e6-414d-a497-e804074d5f58",
   "metadata": {},
   "outputs": [
    {
     "name": "stdin",
     "output_type": "stream",
     "text": [
      "enter your number1 10\n",
      "enter your number2 10\n",
      "enter your number3 10\n"
     ]
    },
    {
     "name": "stdout",
     "output_type": "stream",
     "text": [
      "THERE ARE NO NUMBERS ARE EQUAL\n"
     ]
    }
   ],
   "source": [
    "n1 = int(input(\"enter your number1\"))\n",
    "n2 = int(input(\"enter your number2\"))\n",
    "n3 = int(input(\"enter your number3\"))\n",
    "\n",
    "\n",
    "#NOT PRACTICAL-where Atleast one  condition should be true\n",
    "\n",
    "if n1!=n2 or n1!=n3:\n",
    "    print(f\"GIVEN NUMBERS ARE NOT EQUAL  \")\n",
    "elif n2!=n3 or n2!=n1:\n",
    "    print(f\"GIVEN NUMBERS ARE NOT EQUAL  \")\n",
    "elif n3!=n1 or n3!=n2:\n",
    "    print(f\"GIVEN NUMBERS ARE NOT EQUAL  \")\n",
    "else:\n",
    "    print(\"THERE ARE NO NUMBERS ARE EQUAL\")\n",
    "    "
   ]
  },
  {
   "cell_type": "code",
   "execution_count": 13,
   "id": "d3f11c8e-5a82-45a4-a525-df9afcd3313d",
   "metadata": {},
   "outputs": [
    {
     "name": "stdin",
     "output_type": "stream",
     "text": [
      "enter your number1 10\n",
      "enter your number2 10\n",
      "enter your number3 10\n"
     ]
    },
    {
     "name": "stdout",
     "output_type": "stream",
     "text": [
      "THERE ARE NO NUMBERS ARE EQUAL\n"
     ]
    }
   ],
   "source": [
    "n1 = int(input(\"enter your number1\"))\n",
    "n2 = int(input(\"enter your number2\"))\n",
    "n3 = int(input(\"enter your number3\"))\n",
    "\n",
    "#NOT WITH AND \n",
    "#NOT PRACTICAL-where Atleast one  condition should be true\n",
    "\n",
    "if n1!=n2 and n1!=n3:\n",
    "    print(f\"GIVEN NUMBERS ARE NOT EQUAL  \")\n",
    "elif n2!=n3 and n2!=n1:\n",
    "    print(f\"GIVEN NUMBERS ARE NOT EQUAL  \")\n",
    "elif n3!=n1 and n3!=n2:\n",
    "    print(f\"GIVEN NUMBERS ARE NOT EQUAL  \")\n",
    "else:\n",
    "    print(\"THERE ARE NO NUMBERS ARE EQUAL\")\n",
    "    "
   ]
  },
  {
   "cell_type": "code",
   "execution_count": 16,
   "id": "db8b1438-197e-4272-831f-d1f6e358d4c9",
   "metadata": {},
   "outputs": [
    {
     "name": "stdout",
     "output_type": "stream",
     "text": [
      "1\n",
      "2\n",
      "3\n",
      "4\n",
      "5\n",
      "6\n",
      "7\n",
      "8\n",
      "9\n"
     ]
    }
   ],
   "source": [
    "#iterations :loop:for, while .... mostly used is for loop\n",
    "for i in range(1,10):# upto n-1\n",
    "    print(i)"
   ]
  },
  {
   "cell_type": "code",
   "execution_count": 17,
   "id": "4e802a66-0790-46ba-a0b4-2e401280dc6e",
   "metadata": {},
   "outputs": [
    {
     "name": "stdout",
     "output_type": "stream",
     "text": [
      "0\n",
      "1\n",
      "2\n",
      "3\n",
      "4\n",
      "5\n",
      "6\n",
      "7\n",
      "8\n",
      "9\n"
     ]
    }
   ],
   "source": [
    "for i in range(0,10):# upto n-1\n",
    "    print(i)"
   ]
  },
  {
   "cell_type": "code",
   "execution_count": 22,
   "id": "3c78e30d-25ff-4894-8dd0-56a61dbd5617",
   "metadata": {},
   "outputs": [
    {
     "name": "stdout",
     "output_type": "stream",
     "text": [
      "1\t odd number\n",
      "3\t odd number\n",
      "5\t odd number\n",
      "7\t odd number\n",
      "9\t odd number\n"
     ]
    }
   ],
   "source": [
    "for i in range(1,10):# upto n-1\n",
    "    if(i%2!=0):\n",
    "        print(f\"{i}\\t odd number\")"
   ]
  },
  {
   "cell_type": "code",
   "execution_count": 25,
   "id": "d4562f92-ef2f-4b34-bf08-9d361a805df3",
   "metadata": {},
   "outputs": [
    {
     "name": "stdout",
     "output_type": "stream",
     "text": [
      "0\n",
      "1\n",
      "2\n",
      "3\n",
      "4\n",
      "5\n",
      "6\n",
      "7\n",
      "8\n",
      "9\n"
     ]
    }
   ],
   "source": [
    "#we can store our range elements in a list temp variable and use it in for loop\n",
    "lst = range(0,10)\n",
    "for i in lst:\n",
    "    print(i)"
   ]
  },
  {
   "cell_type": "code",
   "execution_count": 26,
   "id": "46c069c3-3a2d-4b89-8074-f80ff87aba18",
   "metadata": {},
   "outputs": [
    {
     "name": "stdout",
     "output_type": "stream",
     "text": [
      "5\n",
      "6\n",
      "7\n",
      "8\n",
      "9\n"
     ]
    }
   ],
   "source": [
    "lst = range(5,10)\n",
    "for i in lst:\n",
    "    print(i)"
   ]
  },
  {
   "cell_type": "code",
   "execution_count": 29,
   "id": "9c2cd42b-d6c8-4bf3-bc3d-12a2397fce6a",
   "metadata": {},
   "outputs": [
    {
     "ename": "TypeError",
     "evalue": "'list' object cannot be interpreted as an integer",
     "output_type": "error",
     "traceback": [
      "\u001b[31m---------------------------------------------------------------------------\u001b[39m",
      "\u001b[31mTypeError\u001b[39m                                 Traceback (most recent call last)",
      "\u001b[36mCell\u001b[39m\u001b[36m \u001b[39m\u001b[32mIn[29]\u001b[39m\u001b[32m, line 3\u001b[39m\n\u001b[32m      1\u001b[39m colors = [\u001b[33m\"\u001b[39m\u001b[33mred\u001b[39m\u001b[33m\"\u001b[39m,\u001b[33m\"\u001b[39m\u001b[33morange\u001b[39m\u001b[33m\"\u001b[39m,\u001b[33m\"\u001b[39m\u001b[33mblue\u001b[39m\u001b[33m\"\u001b[39m,\u001b[33m\"\u001b[39m\u001b[33mpink\u001b[39m\u001b[33m\"\u001b[39m]\n\u001b[32m----> \u001b[39m\u001b[32m3\u001b[39m \u001b[38;5;28;01mfor\u001b[39;00m i \u001b[38;5;129;01min\u001b[39;00m \u001b[38;5;28mrange\u001b[39m(colors):\n\u001b[32m      4\u001b[39m     \u001b[38;5;28mprint\u001b[39m(i)\n",
      "\u001b[31mTypeError\u001b[39m: 'list' object cannot be interpreted as an integer"
     ]
    }
   ],
   "source": [
    "colors = [\"red\",\"orange\",\"blue\",\"pink\"]\n",
    "\n",
    "for i in range(colors):\n",
    "    print(i)"
   ]
  },
  {
   "cell_type": "code",
   "execution_count": 30,
   "id": "63f9847d-d1b4-4dff-bbba-4a515f04a884",
   "metadata": {},
   "outputs": [
    {
     "name": "stdout",
     "output_type": "stream",
     "text": [
      "red\n",
      "orange\n",
      "blue\n",
      "pink\n"
     ]
    }
   ],
   "source": [
    "# I GOT A ERROR\n",
    "#BECAUSE- I INCLUDED IN RANGE()\n",
    "\n",
    "colors = [\"red\",\"orange\",\"blue\",\"pink\"]\n",
    "\n",
    "for i in colors:\n",
    "    print(i)"
   ]
  },
  {
   "cell_type": "code",
   "execution_count": 32,
   "id": "440be8e7-3731-4893-95fc-dc53f92d4adf",
   "metadata": {},
   "outputs": [
    {
     "name": "stdout",
     "output_type": "stream",
     "text": [
      "india\n",
      "uk\n",
      "usa\n",
      "africa\n",
      "australia\n",
      "canada\n"
     ]
    }
   ],
   "source": [
    "country = [\"india\",\"uk\",\"usa\",\"africa\",\"australia\",\"canada\"]\n",
    "\n",
    "for i in country:\n",
    "    print(i)\n",
    "\n",
    "#1st step : \"country data will be loaded into heap memory of country address\"\n",
    "#2nd step: \"c- temp var at runtime ,ponting block of address and getting a value from there\n",
    "#3rd step : print(c)- whatever value c is holding right now it will print\n",
    "#4th step :\"it will update c value  c=c+1\"\n",
    "#5th step :\n",
    "\n"
   ]
  },
  {
   "cell_type": "code",
   "execution_count": 36,
   "id": "ea016d64-6a87-4c87-86f0-152e7d4a1db3",
   "metadata": {},
   "outputs": [
    {
     "name": "stdin",
     "output_type": "stream",
     "text": [
      "enter a number 2\n"
     ]
    },
    {
     "name": "stdout",
     "output_type": "stream",
     "text": [
      "entered number to find a prime number is 2\n"
     ]
    }
   ],
   "source": [
    "#DAY_4_july_2nd_2025\n",
    "#PRIME NUMBER PROGRAM\n",
    "n= int(input(\"enter a number\"))\n",
    "print(f\"entered number to find a prime number is {n}\")"
   ]
  },
  {
   "cell_type": "code",
   "execution_count": 38,
   "id": "978355b4-f441-47a0-88df-00b738388587",
   "metadata": {},
   "outputs": [],
   "source": [
    "#assumption every number is a prime number by default\n",
    "flag =1 # 1 = if the condition is true and 0 when condition is false\n",
    "\n",
    "\n",
    "for i in range(2,n):\n",
    "    if n%i==0:\n",
    "           flag=0\n",
    "    if flag ==1:\n",
    "        print(f\"{n} is a prime\")\n",
    "    ##i missed something here"
   ]
  },
  {
   "cell_type": "code",
   "execution_count": 40,
   "id": "7e1103ba-34cc-4c66-8e18-cd153806f463",
   "metadata": {},
   "outputs": [
    {
     "name": "stdin",
     "output_type": "stream",
     "text": [
      "enter a number 21\n"
     ]
    },
    {
     "name": "stdout",
     "output_type": "stream",
     "text": [
      "entered number to find a prime number is 21\n"
     ]
    },
    {
     "name": "stdin",
     "output_type": "stream",
     "text": [
      "enter a number 29\n"
     ]
    },
    {
     "name": "stdout",
     "output_type": "stream",
     "text": [
      "entered number to find a prime number is 29\n",
      "23 is a prime\n",
      "29 is a prime\n"
     ]
    }
   ],
   "source": [
    "n1= int(input(\"enter a number\"))\n",
    "print(f\"entered number to find a prime number is {n1}\")\n",
    "\n",
    "n2= int(input(\"enter a number\"))\n",
    "print(f\"entered number to find a prime number is {n2}\")\n",
    "\n",
    "for n in range(n1,n2+1):# outer loop all the numbers in the range it will take one no. and goes\n",
    "    flag =1\n",
    "    for i in range(2,n):\n",
    "       if n%i==0:\n",
    "           flag=0\n",
    "    if flag ==1:\n",
    "        print(f\"{n} is a prime\")\n",
    "    "
   ]
  },
  {
   "cell_type": "code",
   "execution_count": null,
   "id": "cd6f1acc-5d7d-4a90-ba58-5de9d7d0c1b3",
   "metadata": {},
   "outputs": [],
   "source": [
    "#range(start_no,end_no): ---starting number is same but ens upto n-1 "
   ]
  },
  {
   "cell_type": "code",
   "execution_count": 22,
   "id": "493294bd-a34d-4ef8-ac78-debbb56727d6",
   "metadata": {},
   "outputs": [
    {
     "name": "stdin",
     "output_type": "stream",
     "text": [
      "enter a number 2\n"
     ]
    },
    {
     "name": "stdout",
     "output_type": "stream",
     "text": [
      "entered number to find a prime number is 2\n"
     ]
    },
    {
     "name": "stdin",
     "output_type": "stream",
     "text": [
      "enter a number 9\n"
     ]
    },
    {
     "name": "stdout",
     "output_type": "stream",
     "text": [
      "entered number to find a prime number is 9\n",
      "factorial for 2 is 2\n",
      "factorial for 3 is 6\n",
      "factorial for 4 is 24\n",
      "factorial for 5 is 120\n",
      "factorial for 6 is 720\n",
      "factorial for 7 is 5040\n",
      "factorial for 8 is 40320\n",
      "factorial for 9 is 362880\n"
     ]
    }
   ],
   "source": [
    "#print  series of fact of numbers\n",
    "n1= int(input(\"enter a number\"))\n",
    "print(f\"entered number to find a prime number is {n1}\")\n",
    "\n",
    "n2= int(input(\"enter a number\"))\n",
    "print(f\"entered number to find a prime number is {n2}\")\n",
    "\n",
    "for n in range(n1,n2+1):\n",
    "    fact = 1\n",
    "    for n in range(1,n+1):\n",
    "        fact=fact*n\n",
    "    print(f\"factorial for {n} is {fact}\")\n",
    "        \n"
   ]
  },
  {
   "cell_type": "code",
   "execution_count": null,
   "id": "7296cd0c-c5e2-4b4a-bebf-c56fda15c6dc",
   "metadata": {},
   "outputs": [],
   "source": [
    "#a series of numbers where each number is the sum of the two preceding ones, \n",
    "#typically starting with 0 and 1. So, the sequence begins: 0, 1, 1, 2, 3, 5, 8, 13, and so on.\n",
    "\n"
   ]
  },
  {
   "cell_type": "code",
   "execution_count": 28,
   "id": "1e4fb182-cea1-4770-adfd-4af574c7a331",
   "metadata": {},
   "outputs": [
    {
     "name": "stdin",
     "output_type": "stream",
     "text": [
      "enter a number to know whether it is a palindrome or not 234\n"
     ]
    },
    {
     "name": "stdout",
     "output_type": "stream",
     "text": [
      "234 is not a palindrome\n"
     ]
    }
   ],
   "source": [
    "#program to write palindrome--like MADAM,TAT...\n",
    "\n",
    "\n",
    "\n",
    "#BASIC LOGIC\n",
    "n=int(input(\"enter a number to know whether it is a palindrome or not\"))\n",
    "n_str = str(n)\n",
    "rev_str = n_str[::-1]\n",
    "rev_n=int(rev_str)\n",
    "\n",
    "if n==rev_n:\n",
    "    print(f\"{n} is a palindrome\")\n",
    "else:\n",
    "    print(f\"{n} is not a palindrome\")\n",
    "    "
   ]
  },
  {
   "cell_type": "code",
   "execution_count": 34,
   "id": "19e612cd-737f-4d03-aaff-ba1ac7954a30",
   "metadata": {},
   "outputs": [
    {
     "name": "stdin",
     "output_type": "stream",
     "text": [
      "enter a number 21\n"
     ]
    },
    {
     "name": "stdout",
     "output_type": "stream",
     "text": [
      "entered number to find a PALINDROME number is 21\n"
     ]
    },
    {
     "name": "stdin",
     "output_type": "stream",
     "text": [
      "enter a number 100\n"
     ]
    },
    {
     "name": "stdout",
     "output_type": "stream",
     "text": [
      "entered number to find a palindrome number is 100\n",
      "21 is not a palindrome\n",
      "22 is a palindrome\n",
      "23 is not a palindrome\n",
      "24 is not a palindrome\n",
      "25 is not a palindrome\n",
      "26 is not a palindrome\n",
      "27 is not a palindrome\n",
      "28 is not a palindrome\n",
      "29 is not a palindrome\n",
      "30 is not a palindrome\n",
      "31 is not a palindrome\n",
      "32 is not a palindrome\n",
      "33 is a palindrome\n",
      "34 is not a palindrome\n",
      "35 is not a palindrome\n",
      "36 is not a palindrome\n",
      "37 is not a palindrome\n",
      "38 is not a palindrome\n",
      "39 is not a palindrome\n",
      "40 is not a palindrome\n",
      "41 is not a palindrome\n",
      "42 is not a palindrome\n",
      "43 is not a palindrome\n",
      "44 is a palindrome\n",
      "45 is not a palindrome\n",
      "46 is not a palindrome\n",
      "47 is not a palindrome\n",
      "48 is not a palindrome\n",
      "49 is not a palindrome\n",
      "50 is not a palindrome\n",
      "51 is not a palindrome\n",
      "52 is not a palindrome\n",
      "53 is not a palindrome\n",
      "54 is not a palindrome\n",
      "55 is a palindrome\n",
      "56 is not a palindrome\n",
      "57 is not a palindrome\n",
      "58 is not a palindrome\n",
      "59 is not a palindrome\n",
      "60 is not a palindrome\n",
      "61 is not a palindrome\n",
      "62 is not a palindrome\n",
      "63 is not a palindrome\n",
      "64 is not a palindrome\n",
      "65 is not a palindrome\n",
      "66 is a palindrome\n",
      "67 is not a palindrome\n",
      "68 is not a palindrome\n",
      "69 is not a palindrome\n",
      "70 is not a palindrome\n",
      "71 is not a palindrome\n",
      "72 is not a palindrome\n",
      "73 is not a palindrome\n",
      "74 is not a palindrome\n",
      "75 is not a palindrome\n",
      "76 is not a palindrome\n",
      "77 is a palindrome\n",
      "78 is not a palindrome\n",
      "79 is not a palindrome\n",
      "80 is not a palindrome\n",
      "81 is not a palindrome\n",
      "82 is not a palindrome\n",
      "83 is not a palindrome\n",
      "84 is not a palindrome\n",
      "85 is not a palindrome\n",
      "86 is not a palindrome\n",
      "87 is not a palindrome\n",
      "88 is a palindrome\n",
      "89 is not a palindrome\n",
      "90 is not a palindrome\n",
      "91 is not a palindrome\n",
      "92 is not a palindrome\n",
      "93 is not a palindrome\n",
      "94 is not a palindrome\n",
      "95 is not a palindrome\n",
      "96 is not a palindrome\n",
      "97 is not a palindrome\n",
      "98 is not a palindrome\n",
      "99 is a palindrome\n",
      "100 is not a palindrome\n"
     ]
    }
   ],
   "source": [
    "#PALINDROME----DIFFICULT APPROACH\n",
    "#print  series \n",
    "n1= int(input(\"enter a number\"))\n",
    "print(f\"entered number to find a PALINDROME number is {n1}\")\n",
    "\n",
    "n2= int(input(\"enter a number\"))\n",
    "print(f\"entered number to find a palindrome number is {n2}\")\n",
    "\n",
    "for n in range(n1,n2+1):\n",
    "    n_str = str(n)\n",
    "    rev_str = n_str[::-1]\n",
    "    rev_n=int(rev_str)\n",
    "\n",
    "    if n==rev_n:\n",
    "        print(f\"{n} is a palindrome\")\n",
    "    else:\n",
    "        print(f\"{n} is not a palindrome\")\n",
    "    "
   ]
  },
  {
   "cell_type": "markdown",
   "id": "6802d6ea-257e-42a1-9312-4a4c22e5efe0",
   "metadata": {},
   "source": [
    "## FUNCTIONS-9TH-JLY(WEDNESDAY)"
   ]
  },
  {
   "cell_type": "markdown",
   "id": "b218d6aa-fae8-4391-a3d8-a9c2d7d2c4a6",
   "metadata": {},
   "source": [
    "#CALCULATOR:TO DEVELOP CALCULATOR USING USER DEFINED FUNCTIONS\n",
    "\n",
    "add(q,b)\n",
    "\n",
    "sub(a,b)\n",
    "\n",
    "multiply(a,b)\n",
    "\n",
    "divide(a,b)\n",
    "\n",
    "\n",
    "KEY POINTS:\n",
    "        WHERE EVER AND WHENEVER WE WANT WE CAN DEFINE AND CALL THEN\n",
    "        \n",
    "\n",
    "\n",
    "SYNTAX:\n",
    "\n",
    "    def fun_name(arg1,arg2):\n",
    "        arg1=int(input(\"enter the first number\"))\n",
    "        operation\n",
    "        arg2\n",
    "        b=ad(arg1,arg2)\n",
    "        return(b)\n"
   ]
  },
  {
   "cell_type": "code",
   "execution_count": 28,
   "id": "d91df3bb-8ab8-4cbd-8a7c-ea8c0af114f3",
   "metadata": {},
   "outputs": [],
   "source": [
    "def add(n1,n2):\n",
    "    return n1+n2\n",
    "\n",
    "def sub(n1,n2):\n",
    "    return n1-n2\n",
    "\n",
    "def multiply(n1,n2):\n",
    "    return n1*n2\n",
    "\n",
    "def modulo(n1,n2):\n",
    "    return n1%n2\n",
    "\n",
    "def divide(n1,n2):\n",
    "    return n1/n2\n",
    "\n",
    "def genTable(n):\n",
    "    for i in range(1,11):\n",
    "        print(i*n)\n",
    "def default():\n",
    "    print(\"invalid\")"
   ]
  },
  {
   "cell_type": "code",
   "execution_count": 41,
   "id": "327f01e5-45ff-443e-bd75-2f9449ff9ae0",
   "metadata": {},
   "outputs": [
    {
     "name": "stdin",
     "output_type": "stream",
     "text": [
      "enter the FIRST number 7\n",
      "enter operation generate\n",
      "enter the second number 10\n"
     ]
    },
    {
     "name": "stdout",
     "output_type": "stream",
     "text": [
      "your first number= 7\n",
      "your second number= 10\n",
      "your operator= generate\n",
      "7\n",
      "14\n",
      "21\n",
      "28\n",
      "35\n",
      "42\n",
      "49\n",
      "56\n",
      "63\n",
      "70\n"
     ]
    }
   ],
   "source": [
    "arg1 =int(input(\"enter the FIRST number\"))\n",
    "operator =input(\"enter operation\")\n",
    "arg2 =int(input(\"enter the second number\"))\n",
    "\n",
    "print(\"your first number=\",arg1)\n",
    "print(\"your second number=\",arg2)\n",
    "print(\"your operator=\",operator)\n",
    "#CALLING FUNCTIONS\n",
    "\n",
    "if operator == '+':\n",
    "    result = add(arg1,arg2)\n",
    "    print(\"Addition=\",result)\n",
    "elif operator == '-':\n",
    "    result = sub(arg1,arg2)\n",
    "    print(\"Subtraction=\",result)\n",
    "elif operator == '*':\n",
    "    result = multiply(arg1,arg2)\n",
    "    print(\"Multiply=\",result)\n",
    "\n",
    "elif operator == '/':\n",
    "    result = divide(arg1,arg2)\n",
    "    print(\"Division=\",result)\n",
    "\n",
    "elif operator == '%':\n",
    "    result = modulo(arg1,arg2)\n",
    "    print(\"Modules=\",result)\n",
    "elif operator=='generate':\n",
    "    genTable(arg1)\n",
    "else:\n",
    "   default()"
   ]
  },
  {
   "cell_type": "markdown",
   "id": "4b554019-85d0-44b4-ad15-897009fa1578",
   "metadata": {},
   "source": [
    "# write a simple program Menu driven Approach -control stmts,loop,funcuns"
   ]
  },
  {
   "cell_type": "code",
   "execution_count": 51,
   "id": "7b83fd91-d83b-4421-94a7-301cf0192645",
   "metadata": {},
   "outputs": [
    {
     "name": "stdout",
     "output_type": "stream",
     "text": [
      "\n",
      "-------------Main Menu For Hotel-------------\n",
      "1:Order Paneer Biryani\n",
      "2:Juice\n",
      "3:Ice Cream\n",
      "4:\n",
      "5:\n",
      "6:Exit\n",
      "------------------------------------------------\n"
     ]
    },
    {
     "name": "stdin",
     "output_type": "stream",
     "text": [
      "enter your choice of food 1\n"
     ]
    },
    {
     "name": "stdout",
     "output_type": "stream",
     "text": [
      "Your Choice is : 1\n",
      "Your Order has been placed\n"
     ]
    }
   ],
   "source": [
    "def pBiryani():\n",
    "    print(\"Your Order has been placed\")\n",
    "\n",
    "\n",
    "\n",
    "def display_menu():\n",
    "    print(\"\\n-------------Main Menu For Hotel-------------\")\n",
    "    print(\"1:Order Paneer Biryani\")\n",
    "    print(\"2:Juice\")\n",
    "    print(\"3:Ice Cream\")\n",
    "    print(\"4:\")\n",
    "    print(\"5:\")\n",
    "    print(\"6:Exit\")\n",
    "    print(\"------------------------------------------------\")\n",
    "\n",
    "def mainMenu():\n",
    "    display_menu()\n",
    "    choice=input(\"enter your choice of food\")\n",
    "    print(\"Your Choice is :\",choice)\n",
    "    if choice=='1':\n",
    "        pBiryani()\n",
    "    else:\n",
    "        print(\"Order is incorrect.....\")\n",
    "\n",
    "mainMenu()\n",
    "    "
   ]
  },
  {
   "cell_type": "code",
   "execution_count": 53,
   "id": "81e82a81-3089-445e-9a3c-4bf509ff73c5",
   "metadata": {},
   "outputs": [
    {
     "name": "stdout",
     "output_type": "stream",
     "text": [
      "\n",
      "-------------Main Menu For Hotel-------------\n",
      "1:Order Paneer Biryani\n",
      "2:Juice\n",
      "3:Ice Cream\n",
      "4:\n",
      "5:\n",
      "6:Exit\n",
      "------------------------------------------------\n"
     ]
    },
    {
     "name": "stdin",
     "output_type": "stream",
     "text": [
      "enter your choice of food 2\n"
     ]
    },
    {
     "name": "stdout",
     "output_type": "stream",
     "text": [
      "Your Choice is : 2\n",
      "Order is incorrect.....\n"
     ]
    }
   ],
   "source": [
    "def pBiryani():\n",
    "    print(\"Your Order has been placed\")\n",
    "\n",
    "\n",
    "\n",
    "def display_menu():\n",
    "    print(\"\\n-------------Main Menu For Hotel-------------\")\n",
    "    print(\"1:Order Paneer Biryani\")\n",
    "    print(\"2:Juice\")\n",
    "    print(\"3:Ice Cream\")\n",
    "    print(\"4:\")\n",
    "    print(\"5:\")\n",
    "    print(\"6:Exit\")\n",
    "    print(\"------------------------------------------------\")\n",
    "\n",
    "def mainMenu():\n",
    "    display_menu()\n",
    "    choice=input(\"enter your choice of food\")\n",
    "    print(\"Your Choice is :\",choice)\n",
    "    if choice=='1':\n",
    "        pBiryani()\n",
    "    else:\n",
    "        print(\"Order is incorrect.....\")\n",
    "\n",
    "mainMenu()\n",
    "    "
   ]
  },
  {
   "cell_type": "code",
   "execution_count": 57,
   "id": "786725fe-a222-4f6d-843d-c919ee4593bc",
   "metadata": {},
   "outputs": [
    {
     "name": "stdout",
     "output_type": "stream",
     "text": [
      "\n",
      "-------------Main Menu For Hotel-------------\n",
      "1:Order Paneer Biryani\n",
      "2:Juice\n",
      "3:Ice Cream\n",
      "4:\n",
      "5:\n",
      "6:Exit\n",
      "------------------------------------------------\n"
     ]
    },
    {
     "name": "stdin",
     "output_type": "stream",
     "text": [
      "enter your choice of food 2\n"
     ]
    },
    {
     "name": "stdout",
     "output_type": "stream",
     "text": [
      "Your Choice is : 2\n",
      "Your order for juice has been placed\n"
     ]
    }
   ],
   "source": [
    "def pBiryani():\n",
    "    print(\"Your Order has been placed\")\n",
    "def juice():\n",
    "    print(\"Your order for juice has been placed\")\n",
    "\n",
    "\n",
    "\n",
    "def display_menu():\n",
    "    print(\"\\n-------------Main Menu For Hotel-------------\")\n",
    "    print(\"1:Order Paneer Biryani\")\n",
    "    print(\"2:Juice\")\n",
    "    print(\"3:Ice Cream\")\n",
    "    print(\"4:\")\n",
    "    print(\"5:\")\n",
    "    print(\"6:Exit\")\n",
    "    print(\"------------------------------------------------\")\n",
    "\n",
    "def mainMenu():\n",
    "    display_menu()\n",
    "    choice=input(\"enter your choice of food\")\n",
    "    print(\"Your Choice is :\",choice)\n",
    "    if choice=='1':\n",
    "        pBiryani()\n",
    "    elif choice=='2':\n",
    "        juice()\n",
    "        \n",
    "    else:\n",
    "        print(\"Order is incorrect.....\")\n",
    "\n",
    "mainMenu()\n",
    "    "
   ]
  },
  {
   "cell_type": "code",
   "execution_count": 69,
   "id": "cfa10fa3-db64-4e3b-beb3-be8b454400ab",
   "metadata": {},
   "outputs": [
    {
     "name": "stdout",
     "output_type": "stream",
     "text": [
      "\n",
      "-------------Main Menu For Hotel-------------\n",
      "1:Order Paneer Biryani\n",
      "2:Juice\n",
      "3:Ice Cream\n",
      "4:\n",
      "5:\n",
      "6:Exit\n",
      "------------------------------------------------\n"
     ]
    },
    {
     "name": "stdin",
     "output_type": "stream",
     "text": [
      "enter your choice of food 2\n"
     ]
    },
    {
     "name": "stdout",
     "output_type": "stream",
     "text": [
      "Your Choice is : 2\n"
     ]
    },
    {
     "name": "stdin",
     "output_type": "stream",
     "text": [
      "enter the kind of your juice Mango\n"
     ]
    },
    {
     "name": "stdout",
     "output_type": "stream",
     "text": [
      "Your order for juice has been placed Mango\n"
     ]
    }
   ],
   "source": [
    "def pBiryani():\n",
    "    print(\"Your Order has been placed\")\n",
    "def juice(a):\n",
    "    print(\"Your order for juice has been placed\",a)\n",
    "\n",
    "\n",
    "\n",
    "def display_menu():\n",
    "    print(\"\\n-------------Main Menu For Hotel-------------\")\n",
    "    print(\"1:Order Paneer Biryani\")\n",
    "    print(\"2:Juice\")\n",
    "    print(\"3:Ice Cream\")\n",
    "    print(\"4:\")\n",
    "    print(\"5:\")\n",
    "    print(\"6:Exit\")\n",
    "    print(\"------------------------------------------------\")\n",
    "\n",
    "def mainMenu():\n",
    "    display_menu()\n",
    "    choice=input(\"enter your choice of food\")\n",
    "    print(\"Your Choice is :\",choice)\n",
    "    if choice=='1':\n",
    "        pBiryani()\n",
    "    elif choice=='2':\n",
    "        j=input(\"enter the kind of your juice\") \n",
    "        juice(j)\n",
    "        \n",
    "    else:\n",
    "        print(\"Order is incorrect.....\")\n",
    "\n",
    "mainMenu()\n",
    "    "
   ]
  },
  {
   "cell_type": "code",
   "execution_count": 89,
   "id": "cb2e79da-951c-463e-b1ae-598b4569f74a",
   "metadata": {},
   "outputs": [
    {
     "name": "stdout",
     "output_type": "stream",
     "text": [
      "\n",
      "-------------Main Menu For Hotel-------------\n",
      "1:Order Paneer Biryani\n",
      "2:Juice\n",
      "3:Ice Cream\n",
      "4:\n",
      "5:\n",
      "6:Exit\n",
      "------------------------------------------------\n"
     ]
    },
    {
     "name": "stdin",
     "output_type": "stream",
     "text": [
      "enter your choice of food 4\n"
     ]
    },
    {
     "name": "stdout",
     "output_type": "stream",
     "text": [
      "Your Choice is : 4\n"
     ]
    },
    {
     "name": "stdin",
     "output_type": "stream",
     "text": [
      "enter the number you wanted to add 18\n",
      "enter the second number you wanted to add 32\n"
     ]
    },
    {
     "name": "stdout",
     "output_type": "stream",
     "text": [
      "Addition: 50\n"
     ]
    }
   ],
   "source": [
    "def pBiryani():\n",
    "    print(\"Your Order has been placed\")\n",
    "def juice(j):\n",
    "    print(\"Your order for juice has been placed\",j)\n",
    "def ice_cream(ice_name):\n",
    "    print(\"Your order for icecream has been placed for:\",ice_name)\n",
    "def add(n1,n2):\n",
    "    return n1+n2\n",
    "def sub(n1,n2):\n",
    "    return n1-n2\n",
    "\n",
    "\n",
    "def display_menu():\n",
    "    print(\"\\n-------------Main Menu For Hotel-------------\")\n",
    "    print(\"1:Order Paneer Biryani\")\n",
    "    print(\"2:Juice\")\n",
    "    print(\"3:Ice Cream\")\n",
    "    print(\"4:\")\n",
    "    print(\"5:\")\n",
    "    print(\"6:Exit\")\n",
    "    print(\"------------------------------------------------\")\n",
    "\n",
    "def mainMenu():\n",
    "    display_menu()\n",
    "    choice=input(\"enter your choice of food\")\n",
    "    print(\"Your Choice is :\",choice)\n",
    "    if choice=='1':\n",
    "        pBiryani()\n",
    "    elif choice=='2':\n",
    "        j=input(\"enter the juice\")\n",
    "        juice(j)\n",
    "\n",
    "    elif choice=='3':\n",
    "        ice_name=input(\"enter kind of ice cream you are interested\")\n",
    "        ice_cream(ice_name)\n",
    "    elif choice=='4':\n",
    "        n1 = int(input(\"enter the number you wanted to add\"))\n",
    "        n2 = int(input(\"enter the second number you wanted to add\"))\n",
    "        sum = add(n1,n2)\n",
    "        print(\"Addition:\",sum)\n",
    "    elif choice=='5':\n",
    "        n1 = int(input(\"enter the number you wanted to sub\"))\n",
    "        n2 = int(input(\"enter the second number you wanted to sub\"))\n",
    "        res = sub(n1,n2)\n",
    "        print(\"Subtraction:\",res)\n",
    "        \n",
    "    else:\n",
    "        print(\"Order is incorrect.....\")\n",
    "\n",
    "mainMenu()\n",
    "    "
   ]
  },
  {
   "cell_type": "code",
   "execution_count": 304,
   "id": "212a10a9-6581-4b5d-8ea1-3ca81fa1d6ce",
   "metadata": {},
   "outputs": [],
   "source": [
    "#ASSIGNMENT ON 9TH(WEDNESDAY)-10 programs\n",
    "#1.FIND A PRIME NUMBER FOR A GIVEN RANGE"
   ]
  },
  {
   "cell_type": "markdown",
   "id": "ebab298f-9aa6-4f70-a1f0-cff5d700ee7a",
   "metadata": {},
   "source": [
    "NEXT PRIME NUMBER-LOGIC"
   ]
  },
  {
   "cell_type": "code",
   "execution_count": 116,
   "id": "47f6991b-8bd1-4e5b-a2bd-fd70caa7c96d",
   "metadata": {},
   "outputs": [
    {
     "name": "stdout",
     "output_type": "stream",
     "text": [
      "23\n"
     ]
    }
   ],
   "source": [
    "def is_prime(n):\n",
    "    if n<=1:\n",
    "        return False\n",
    "    elif n>=2:\n",
    "        for i in range(2,n):\n",
    "            if n%i==0:\n",
    "                return False\n",
    "        return True\n",
    "\n",
    "        \n",
    "\n",
    "\n",
    "\n",
    "def next_prime(n):\n",
    "    while True:\n",
    "        if is_prime(n):\n",
    "            return n\n",
    "        n=n+1\n",
    "\n",
    "\n",
    "\n",
    "\n",
    "print(next_prime(20))"
   ]
  },
  {
   "cell_type": "markdown",
   "id": "b713ad3c-2bae-4d1c-90c8-1287a728dd8d",
   "metadata": {},
   "source": [
    "###  output:\n",
    "the above code check whether a given number is prime initially, if it is a prime then it returns that prime number as output.\n",
    "\n",
    "\n",
    "otherwise, it is going to update n value and it will check next no. n+1 whether it is a prime if is not then it will update again n value ( n value becomes n+2)\n",
    "this continues until the n+something is a prime ....After finding a prime number then it will returns the number as prime.\n",
    "\n",
    "FINALLY,THE CODE WORKS TO FIND A NEXT PRIME  OF A GIVEN NUMBER (WHEN GIVEN NO. IS NOT A PRIME) AND ALSO IT FINDS THAT GIVEN NUMBER AS A PRIME (IF GIVEN NUMBER IS A PRIME)."
   ]
  },
  {
   "cell_type": "markdown",
   "id": "52b67222-44a7-479a-a6a0-024cdb77feb0",
   "metadata": {},
   "source": [
    "### 1.FIND A PRIME NUMBER FOR A GIVEN RANGE"
   ]
  },
  {
   "cell_type": "code",
   "execution_count": 126,
   "id": "48260612-f3fd-49f4-a163-a421b6f08a2f",
   "metadata": {},
   "outputs": [
    {
     "name": "stdin",
     "output_type": "stream",
     "text": [
      "enter the starting value of your range to find prime numbers 2\n",
      "enter the starting value of your range to find prime numbers 10\n"
     ]
    },
    {
     "ename": "NameError",
     "evalue": "name 'prime_nos_in_arange' is not defined",
     "output_type": "error",
     "traceback": [
      "\u001b[1;31m---------------------------------------------------------------------------\u001b[0m",
      "\u001b[1;31mNameError\u001b[0m                                 Traceback (most recent call last)",
      "Cell \u001b[1;32mIn[126], line 4\u001b[0m\n\u001b[0;32m      1\u001b[0m n1 \u001b[38;5;241m=\u001b[39m \u001b[38;5;28mint\u001b[39m(\u001b[38;5;28minput\u001b[39m(\u001b[38;5;124m\"\u001b[39m\u001b[38;5;124menter the starting value of your range to find prime numbers\u001b[39m\u001b[38;5;124m\"\u001b[39m))\n\u001b[0;32m      2\u001b[0m n2\u001b[38;5;241m=\u001b[39m \u001b[38;5;28mint\u001b[39m(\u001b[38;5;28minput\u001b[39m(\u001b[38;5;124m\"\u001b[39m\u001b[38;5;124menter the starting value of your range to find prime numbers\u001b[39m\u001b[38;5;124m\"\u001b[39m))\n\u001b[1;32m----> 4\u001b[0m \u001b[38;5;28mprint\u001b[39m(prime_nos_in_arange(n1,n2))\n\u001b[0;32m      7\u001b[0m \u001b[38;5;28;01mdef\u001b[39;00m \u001b[38;5;21mprime_nos_in_arange\u001b[39m(start,end):\n\u001b[0;32m      8\u001b[0m     prime_nos_var \u001b[38;5;241m=\u001b[39m []\u001b[38;5;66;03m# a var to store primes in our range after finding them sequentially in a loop\u001b[39;00m\n",
      "\u001b[1;31mNameError\u001b[0m: name 'prime_nos_in_arange' is not defined"
     ]
    }
   ],
   "source": [
    "n1 = int(input(\"enter the starting value of your range to find prime numbers\"))\n",
    "n2= int(input(\"enter the starting value of your range to find prime numbers\"))\n",
    "\n",
    "print(prime_nos_in_arange(n1,n2))\n",
    "\n",
    "\n",
    "def prime_nos_in_arange(start,end):\n",
    "    prime_nos_var = []# a var to store primes in our range after finding them sequentially in a loop\n",
    "    for i in range(start,end+1):\n",
    "        if is_prime(start):\n",
    "         prime_nos_var.append(start)\n",
    "        else:\n",
    "            start=start+i\n",
    "\n",
    "\n",
    "def is_prime(n):\n",
    "    if n<=1:\n",
    "        return False\n",
    "    elif n>=2:\n",
    "        for i in range(2,n):\n",
    "            if n%i==0:\n",
    "                return False\n",
    "            else:\n",
    "                return True\n",
    "        "
   ]
  },
  {
   "cell_type": "markdown",
   "id": "a2aa9820-c4fe-497d-918d-d624153b13db",
   "metadata": {},
   "source": [
    "### ERROR:\n",
    "\n",
    "I got error as i defined the functions after calling them.Make sure to define the functions before calling them\n"
   ]
  },
  {
   "cell_type": "code",
   "execution_count": 128,
   "id": "bedf334f-0cc2-41c9-98ce-d5e0f4e6335a",
   "metadata": {},
   "outputs": [
    {
     "name": "stdin",
     "output_type": "stream",
     "text": [
      "enter the starting value of your range to find prime numbers 2\n",
      "enter the starting value of your range to find prime numbers 10\n"
     ]
    },
    {
     "name": "stdout",
     "output_type": "stream",
     "text": [
      "None\n"
     ]
    }
   ],
   "source": [
    "def prime_nos_in_arange(start,end):\n",
    "    prime_nos_var = []# a var to store primes in our range after finding them sequentially in a loop\n",
    "    for i in range(start,end+1):\n",
    "        if is_prime(start):\n",
    "         prime_nos_var.append(start)\n",
    "        else:\n",
    "            start=start+i\n",
    "\n",
    "\n",
    "def is_prime(n):\n",
    "    if n<=1:\n",
    "        return False\n",
    "    elif n>=2:\n",
    "        for i in range(2,n):\n",
    "            if n%i==0:\n",
    "                return False\n",
    "            else:\n",
    "                return True\n",
    "\n",
    "\n",
    "\n",
    "n1 = int(input(\"enter the starting value of your range to find prime numbers\"))\n",
    "n2= int(input(\"enter the starting value of your range to find prime numbers\"))\n",
    "\n",
    "print(prime_nos_in_arange(n1,n2))"
   ]
  },
  {
   "cell_type": "markdown",
   "id": "2d486949-d3cf-47e4-a47d-becfbfab0462",
   "metadata": {},
   "source": [
    "### I GOT "
   ]
  },
  {
   "cell_type": "code",
   "execution_count": 197,
   "id": "41e499a8-43e3-4f3b-bc10-ef7a98dc78c8",
   "metadata": {},
   "outputs": [
    {
     "name": "stdin",
     "output_type": "stream",
     "text": [
      "enter the starting value of your range to find prime numbers 2\n",
      "enter the starting value of your range to find prime numbers 11\n"
     ]
    },
    {
     "name": "stdout",
     "output_type": "stream",
     "text": [
      "[2, 3, 5, 7, 11]\n"
     ]
    }
   ],
   "source": [
    "def prime_nos_in_arange(start,end):\n",
    "    prime_nos_var = []# a var to store primes in our range after finding them sequentially in a loop\n",
    "    for i in range(start,end+1):\n",
    "        if is_prime(i):\n",
    "         prime_nos_var.append(i)\n",
    "      \n",
    "    return prime_nos_var\n",
    "\n",
    "\n",
    "def is_prime(n):\n",
    "    if n<=1:\n",
    "        return False\n",
    "    for i in range(2,n):\n",
    "        if n% i==0:\n",
    "            return False\n",
    "    return True\n",
    "\n",
    "\n",
    "\n",
    "\n",
    "\n",
    "n1 = int(input(\"enter the starting value of your range to find prime numbers\"))\n",
    "n2= int(input(\"enter the starting value of your range to find prime numbers\"))\n",
    "\n",
    "print(prime_nos_in_arange(n1,n2))"
   ]
  },
  {
   "cell_type": "markdown",
   "id": "9fd79f7a-051d-4e2c-b1b3-f20c0c128cf0",
   "metadata": {},
   "source": [
    "### ERRORS I DID:\n",
    "Mistake\tWhat i Wrote Vs What i Should Write\n",
    "\n",
    "1.Wrong divisor check\t         i % n == 0 => n % i == 0\n",
    "\n",
    "2.Wrong range\trange(2, n+1)               =>\trange(2, n)\n",
    "\n",
    "3.Early return\treturn True inside loop\t=> return True after loop\n",
    "\n",
    "4.Wrong variable in loop\tis_prime(start) =>\tis_prime(i)\n",
    "\n",
    "5.Unnecessary update\tstart = start + i\t=> Remove it\n",
    "\n",
    "6.Missing return\tNone returned\t        =>  return prime_nos_var\n",
    "\n",
    "7.Early return in loop Inside loop\t    =>  Outside loop\n",
    "\n"
   ]
  },
  {
   "cell_type": "code",
   "execution_count": 233,
   "id": "37ba7956-4e1f-4a9c-9bf8-9db00169da76",
   "metadata": {},
   "outputs": [
    {
     "name": "stdin",
     "output_type": "stream",
     "text": [
      "enter the value to find prime numbers 7\n"
     ]
    },
    {
     "name": "stdout",
     "output_type": "stream",
     "text": [
      "7 is a prime number\n"
     ]
    }
   ],
   "source": [
    "\n",
    "def primr(n):\n",
    "    for i in range(2,n):\n",
    "        if n%i==0:\n",
    "            return False       \n",
    "    return True\n",
    "\n",
    "n = int(input(\"enter the value to find prime numbers\"))\n",
    "if n<=1:\n",
    "    print(f\"{n} is not a prime\")\n",
    "elif primr(n):\n",
    "    print(f\"{n} is a prime number\")\n",
    "else:\n",
    "    print(f\"{n} is not a  prime number\")\n",
    "    "
   ]
  },
  {
   "cell_type": "code",
   "execution_count": 235,
   "id": "aa96f3f1-0909-4fd1-913c-a6afdc3386a1",
   "metadata": {},
   "outputs": [
    {
     "name": "stdin",
     "output_type": "stream",
     "text": [
      "enter the value to find prime numbers 1\n"
     ]
    },
    {
     "name": "stdout",
     "output_type": "stream",
     "text": [
      "1 is not a prime\n"
     ]
    }
   ],
   "source": [
    "def primr(n):\n",
    "    for i in range(2,n):\n",
    "        if n%i==0:\n",
    "            return False       \n",
    "    return True\n",
    "\n",
    "n = int(input(\"enter the value to find prime numbers\"))\n",
    "if n<=1:\n",
    "    print(f\"{n} is not a prime\")\n",
    "elif primr(n):\n",
    "    print(f\"{n} is a prime number\")\n",
    "else:\n",
    "    print(f\"{n} is not a  prime number\")"
   ]
  },
  {
   "cell_type": "code",
   "execution_count": 239,
   "id": "4158ba53-62a1-4d2e-8f8c-6eef1d507bcd",
   "metadata": {},
   "outputs": [
    {
     "name": "stdin",
     "output_type": "stream",
     "text": [
      "enter the value to find prime numbers -1\n"
     ]
    },
    {
     "name": "stdout",
     "output_type": "stream",
     "text": [
      "-1 is not a prime\n"
     ]
    }
   ],
   "source": [
    "def primr(n):\n",
    "    for i in range(2,n):\n",
    "        if n%i==0:\n",
    "            return False       \n",
    "    return True\n",
    "\n",
    "n = int(input(\"enter the value to find prime numbers\"))\n",
    "if n<=1:\n",
    "    print(f\"{n} is not a prime\")\n",
    "elif primr(n):\n",
    "    print(f\"{n} is a prime number\")\n",
    "else:\n",
    "    print(f\"{n} is not a  prime number\")\n",
    "    "
   ]
  },
  {
   "cell_type": "code",
   "execution_count": null,
   "id": "845cd264-dda3-4ad7-8998-1793e120f898",
   "metadata": {},
   "outputs": [],
   "source": [
    "def primr(n):\n",
    "    for i in range(2,n):\n",
    "        if n%i==0:\n",
    "            return False       \n",
    "    return True\n",
    "\n",
    "n = int(input(\"enter the value to find prime numbers\"))\n",
    "if n<=1:\n",
    "    print(f\"{n} is not a prime\")\n",
    "elif primr(n):\n",
    "    print(f\"{n} is a prime number\")\n",
    "else:\n",
    "    print(f\"{n} is not a  prime number\")"
   ]
  },
  {
   "cell_type": "markdown",
   "id": "f9f680e2-0d3d-43b5-9541-f05aef478b47",
   "metadata": {},
   "source": [
    "### 2.FACTORIAL"
   ]
  },
  {
   "cell_type": "code",
   "execution_count": 257,
   "id": "413a678c-794f-4734-969b-7f8125c1fb03",
   "metadata": {},
   "outputs": [
    {
     "name": "stdin",
     "output_type": "stream",
     "text": [
      "enter a number to find a factorial 4\n"
     ]
    },
    {
     "name": "stdout",
     "output_type": "stream",
     "text": [
      "Factorial of a given number4 is 24\n"
     ]
    }
   ],
   "source": [
    "def fact(n):\n",
    "    f=1\n",
    "    for i in range(1,n+1):\n",
    "        f=f*i\n",
    "    return f\n",
    "\n",
    "\n",
    "n=int(input(\"enter a number to find a factorial\"))\n",
    "print(f\"Factorial of a given number{n} is {fact(n)}\")"
   ]
  },
  {
   "cell_type": "markdown",
   "id": "ef85d955-e54c-40dd-afea-7cc4ca7daa59",
   "metadata": {},
   "source": [
    "### SERIES OF FACTORIAL"
   ]
  },
  {
   "cell_type": "code",
   "execution_count": 278,
   "id": "11b1679c-6f5f-4504-af6b-597dfa14f277",
   "metadata": {},
   "outputs": [
    {
     "name": "stdin",
     "output_type": "stream",
     "text": [
      "enter a number to find a range of factorial series 5\n"
     ]
    },
    {
     "name": "stdout",
     "output_type": "stream",
     "text": [
      "1\n",
      "2\n",
      "6\n",
      "24\n",
      "120\n"
     ]
    }
   ],
   "source": [
    "### SERIES OF FACTORIAL FROM 1 TO THE GIVEN ENDING DIGIT\n",
    "\n",
    "\n",
    "def fact(n):\n",
    "    f=1\n",
    "    for i in range(1,n+1):\n",
    "        f=f*i\n",
    "    return f\n",
    "\n",
    "\n",
    "def fact_series(n):\n",
    "    for i in range(1,n+1):\n",
    "        print(f\"{fact(i)}\")\n",
    "        \n",
    "\n",
    "\n",
    "n=int(input(\"enter a number to find a range of factorial series\"))\n",
    "fact_series(n)"
   ]
  },
  {
   "cell_type": "code",
   "execution_count": 283,
   "id": "eec3b61a-e9a2-495a-bd1e-42e4bcc17703",
   "metadata": {},
   "outputs": [
    {
     "name": "stdin",
     "output_type": "stream",
     "text": [
      "enter the starting digit of the range to find factorial series 1\n",
      "enter the ending digit of the range to find factorial series 10\n"
     ]
    },
    {
     "name": "stdout",
     "output_type": "stream",
     "text": [
      "The Factorial Series in a range 1 and 10 is \n",
      "1! = 1\n",
      "2! = 2\n",
      "3! = 6\n",
      "4! = 24\n",
      "5! = 120\n",
      "6! = 720\n",
      "7! = 5040\n",
      "8! = 40320\n",
      "9! = 362880\n",
      "10! = 3628800\n"
     ]
    }
   ],
   "source": [
    "def fact(n):\n",
    "    f=1\n",
    "    for i in range(1,n+1):\n",
    "        f=f*i\n",
    "    return f\n",
    "\n",
    "\n",
    "def factorial_series(start,end):\n",
    "    for i in range(start,end+1):\n",
    "        print(f\"{i}! = {fact(i)}\")\n",
    "        \n",
    "\n",
    "start=int(input(\"enter the starting digit of the range to find factorial series\"))\n",
    "end=int(input(\"enter the ending digit of the range to find factorial series\"))\n",
    "\n",
    "\n",
    "print(f\"The Factorial Series in a range {start} and {end} is \")\n",
    "factorial_series(start,end)"
   ]
  },
  {
   "cell_type": "markdown",
   "id": "e7355d84-7871-4d3e-9593-e074f983a52a",
   "metadata": {},
   "source": [
    "### 3.EVEN NUMBER SERIES\n"
   ]
  },
  {
   "cell_type": "code",
   "execution_count": 288,
   "id": "41a3295c-68d6-4c17-bcf6-01016f9fb002",
   "metadata": {},
   "outputs": [
    {
     "name": "stdin",
     "output_type": "stream",
     "text": [
      "enter a number to check even or not 5\n"
     ]
    },
    {
     "name": "stdout",
     "output_type": "stream",
     "text": [
      "5 is not a even number\n"
     ]
    }
   ],
   "source": [
    "n=int(input(\"enter a number to check even or not\"))\n",
    "if n%2==0:\n",
    "      print(f\"{n} is a even number\")\n",
    "else:\n",
    "    print(f\"{n} is not a even number\")\n",
    "    \n"
   ]
  },
  {
   "cell_type": "code",
   "execution_count": 292,
   "id": "145e4253-0fcf-44c9-ac36-ff4e8dfc3c07",
   "metadata": {},
   "outputs": [
    {
     "name": "stdin",
     "output_type": "stream",
     "text": [
      "enter the starting digit of the range to check even number 1\n",
      "enter the ending digit of the range to check even number 30\n"
     ]
    },
    {
     "name": "stdout",
     "output_type": "stream",
     "text": [
      "The Even Number Series in a range 1 and 30 is \n",
      "2\n",
      "4\n",
      "6\n",
      "8\n",
      "10\n",
      "12\n",
      "14\n",
      "16\n",
      "18\n",
      "20\n",
      "22\n",
      "24\n",
      "26\n",
      "28\n"
     ]
    }
   ],
   "source": [
    "\n",
    "start=int(input(\"enter the starting digit of the range to check even number\"))\n",
    "end=int(input(\"enter the ending digit of the range to check even number\"))\n",
    "\n",
    "\n",
    "print(f\"The Even Number Series in a range {start} and {end} is \")\n",
    "for i in range(start,end):\n",
    "        if i%2==0:\n",
    "            print(i)\n"
   ]
  },
  {
   "cell_type": "markdown",
   "id": "8bee3cbe-6911-425f-9055-5a5613cd236c",
   "metadata": {},
   "source": [
    "###  4.ODD NUMBER SERIES"
   ]
  },
  {
   "cell_type": "code",
   "execution_count": 297,
   "id": "454caef3-ea7c-41f0-be91-5fb83fb96128",
   "metadata": {},
   "outputs": [
    {
     "name": "stdin",
     "output_type": "stream",
     "text": [
      "enter a number to check odd or not 5\n"
     ]
    },
    {
     "name": "stdout",
     "output_type": "stream",
     "text": [
      "5 is a odd number\n"
     ]
    }
   ],
   "source": [
    "n=int(input(\"enter a number to check odd or not\"))\n",
    "if n%2!=0:\n",
    "      print(f\"{n} is a odd number\")\n",
    "else:\n",
    "    print(f\"{n} is not a odd number\")"
   ]
  },
  {
   "cell_type": "code",
   "execution_count": 301,
   "id": "1abbac09-b819-497e-a2a0-abac9f266b86",
   "metadata": {},
   "outputs": [
    {
     "name": "stdin",
     "output_type": "stream",
     "text": [
      "enter the starting digit of the range to check odd number 2\n",
      "enter the ending digit of the range to check odd number 30\n"
     ]
    },
    {
     "name": "stdout",
     "output_type": "stream",
     "text": [
      "The Odd Number Series in a range 2 and 30 is \n",
      "3\n",
      "5\n",
      "7\n",
      "9\n",
      "11\n",
      "13\n",
      "15\n",
      "17\n",
      "19\n",
      "21\n",
      "23\n",
      "25\n",
      "27\n",
      "29\n"
     ]
    }
   ],
   "source": [
    "start=int(input(\"enter the starting digit of the range to check odd number\"))\n",
    "end=int(input(\"enter the ending digit of the range to check odd number\"))\n",
    "\n",
    "\n",
    "print(f\"The Odd Number Series in a range {start} and {end} is \")\n",
    "for i in range(start,end):\n",
    "        if i%2!=0:\n",
    "            print(i)\n"
   ]
  },
  {
   "cell_type": "markdown",
   "id": "48a732d5-68a7-4b83-a150-9ac8a05598fa",
   "metadata": {},
   "source": [
    "### 5.PALINDROME PROGRAM"
   ]
  },
  {
   "cell_type": "code",
   "execution_count": 315,
   "id": "1d859070-8c36-4756-8ac3-eac52cace3e3",
   "metadata": {},
   "outputs": [
    {
     "name": "stdin",
     "output_type": "stream",
     "text": [
      "enter any number 123\n"
     ]
    },
    {
     "name": "stdout",
     "output_type": "stream",
     "text": [
      "123 is a palindrome: False\n"
     ]
    }
   ],
   "source": [
    "n= input(\"enter any number\")\n",
    "rn = n[::-1]\n",
    "\n",
    "def isPalindrome(n):\n",
    "    return n ==n[::-1]\n",
    "print(f\"{n} is a palindrome: {isPalindrome(n)}\")\n"
   ]
  },
  {
   "cell_type": "markdown",
   "id": "e06701e2-fce7-42d0-a202-c8a981b305dc",
   "metadata": {},
   "source": [
    "### Logic\n",
    "\n",
    "n=121\n",
    "rn=0\n",
    "d=n%10-> gives last digit from the given number\n",
    "rn=(rn*10)+d->1\n",
    "n=n/10-> 12\n"
   ]
  },
  {
   "cell_type": "markdown",
   "id": "563ba7b4-4e59-4fef-a15b-a72e2e99b63e",
   "metadata": {},
   "source": []
  },
  {
   "cell_type": "code",
   "execution_count": 336,
   "id": "ed3bc931-11f6-4b86-9dd5-632544643534",
   "metadata": {},
   "outputs": [
    {
     "name": "stdout",
     "output_type": "stream",
     "text": [
      "\n",
      " MENU\n",
      "1. Check Even or Odd\n",
      "2. Find Factorial\n",
      "3. Check Palindrome\n",
      "4. Check Prime\n",
      "5. Sum of Even and Odd in a Range\n",
      "6. Factorial Series in a Range\n",
      "7. Exit\n"
     ]
    },
    {
     "name": "stdin",
     "output_type": "stream",
     "text": [
      "\n",
      "Enter your choice (1-7):  2\n",
      "Enter a number:  6\n"
     ]
    },
    {
     "name": "stdout",
     "output_type": "stream",
     "text": [
      "Factorial of 6 is 720\n",
      "\n",
      " MENU\n",
      "1. Check Even or Odd\n",
      "2. Find Factorial\n",
      "3. Check Palindrome\n",
      "4. Check Prime\n",
      "5. Sum of Even and Odd in a Range\n",
      "6. Factorial Series in a Range\n",
      "7. Exit\n"
     ]
    },
    {
     "name": "stdin",
     "output_type": "stream",
     "text": [
      "\n",
      "Enter your choice (1-7):  1\n",
      "Enter a number:  7\n"
     ]
    },
    {
     "name": "stdout",
     "output_type": "stream",
     "text": [
      "7 is Odd.\n",
      "\n",
      " MENU\n",
      "1. Check Even or Odd\n",
      "2. Find Factorial\n",
      "3. Check Palindrome\n",
      "4. Check Prime\n",
      "5. Sum of Even and Odd in a Range\n",
      "6. Factorial Series in a Range\n",
      "7. Exit\n"
     ]
    },
    {
     "name": "stdin",
     "output_type": "stream",
     "text": [
      "\n",
      "Enter your choice (1-7):  3\n",
      "Enter a number:  121\n"
     ]
    },
    {
     "name": "stdout",
     "output_type": "stream",
     "text": [
      "121 is a Palindrome.\n",
      "\n",
      " MENU\n",
      "1. Check Even or Odd\n",
      "2. Find Factorial\n",
      "3. Check Palindrome\n",
      "4. Check Prime\n",
      "5. Sum of Even and Odd in a Range\n",
      "6. Factorial Series in a Range\n",
      "7. Exit\n"
     ]
    },
    {
     "name": "stdin",
     "output_type": "stream",
     "text": [
      "\n",
      "Enter your choice (1-7):  4\n",
      "Enter a number:  77\n"
     ]
    },
    {
     "name": "stdout",
     "output_type": "stream",
     "text": [
      "77 is not a Prime number.\n",
      "\n",
      " MENU\n",
      "1. Check Even or Odd\n",
      "2. Find Factorial\n",
      "3. Check Palindrome\n",
      "4. Check Prime\n",
      "5. Sum of Even and Odd in a Range\n",
      "6. Factorial Series in a Range\n",
      "7. Exit\n"
     ]
    },
    {
     "name": "stdin",
     "output_type": "stream",
     "text": [
      "\n",
      "Enter your choice (1-7):  5\n",
      "Enter start of range:  5\n",
      "Enter end of range:  20\n"
     ]
    },
    {
     "name": "stdout",
     "output_type": "stream",
     "text": [
      "Sum of Even numbers = 104\n",
      "Sum of Odd numbers = 96\n",
      "\n",
      " MENU\n",
      "1. Check Even or Odd\n",
      "2. Find Factorial\n",
      "3. Check Palindrome\n",
      "4. Check Prime\n",
      "5. Sum of Even and Odd in a Range\n",
      "6. Factorial Series in a Range\n",
      "7. Exit\n"
     ]
    },
    {
     "name": "stdin",
     "output_type": "stream",
     "text": [
      "\n",
      "Enter your choice (1-7):  6\n",
      "Enter start of range:  1\n",
      "Enter end of range:  9\n"
     ]
    },
    {
     "name": "stdout",
     "output_type": "stream",
     "text": [
      "\n",
      "Factorial series from 1 to 9:\n",
      "1! = 1\n",
      "2! = 2\n",
      "3! = 6\n",
      "4! = 24\n",
      "5! = 120\n",
      "6! = 720\n",
      "7! = 5040\n",
      "8! = 40320\n",
      "9! = 362880\n",
      "\n",
      " MENU\n",
      "1. Check Even or Odd\n",
      "2. Find Factorial\n",
      "3. Check Palindrome\n",
      "4. Check Prime\n",
      "5. Sum of Even and Odd in a Range\n",
      "6. Factorial Series in a Range\n",
      "7. Exit\n"
     ]
    },
    {
     "name": "stdin",
     "output_type": "stream",
     "text": [
      "\n",
      "Enter your choice (1-7):  7\n"
     ]
    },
    {
     "name": "stdout",
     "output_type": "stream",
     "text": [
      "Exiting the program. Goodbye! \n"
     ]
    }
   ],
   "source": [
    "def is_even_or_odd(n):\n",
    "    if n % 2 == 0:\n",
    "        print(f\"{n} is Even.\")\n",
    "    else:\n",
    "        print(f\"{n} is Odd.\")\n",
    "\n",
    "def factorial(n):\n",
    "    f = 1\n",
    "    for i in range(1, n + 1):\n",
    "        f *= i\n",
    "    print(f\"Factorial of {n} is {f}\")\n",
    "\n",
    "def is_palindrome(n):\n",
    "    original = n\n",
    "    reversed_num = 0\n",
    "    while n > 0:\n",
    "        digit = n % 10\n",
    "        reversed_num = reversed_num * 10 + digit\n",
    "        n //= 10\n",
    "    if original == reversed_num:\n",
    "        print(f\"{original} is a Palindrome.\")\n",
    "    else:\n",
    "        print(f\"{original} is not a Palindrome.\")\n",
    "\n",
    "def is_prime(n):\n",
    "    if n <= 1:\n",
    "        print(f\"{n} is not a Prime number.\")\n",
    "        return\n",
    "    for i in range(2, n):\n",
    "        if n % i == 0:\n",
    "            print(f\"{n} is not a Prime number.\")\n",
    "            return\n",
    "    print(f\"{n} is a Prime number.\")\n",
    "\n",
    "def sum_even_odd(start, end):\n",
    "    even_sum = 0\n",
    "    odd_sum = 0\n",
    "    for i in range(start, end + 1):\n",
    "        if i % 2 == 0:\n",
    "            even_sum += i\n",
    "        else:\n",
    "            odd_sum += i\n",
    "    print(f\"Sum of Even numbers = {even_sum}\")\n",
    "    print(f\"Sum of Odd numbers = {odd_sum}\")\n",
    "\n",
    "def factorial_series(start, end):\n",
    "    print(f\"\\nFactorial series from {start} to {end}:\")\n",
    "    for i in range(start, end + 1):\n",
    "        f = 1\n",
    "        for j in range(1, i + 1):\n",
    "            f *= j\n",
    "        print(f\"{i}! = {f}\")\n",
    "\n",
    "# Menu Program\n",
    "while True:\n",
    "    print(\"\\n MENU\")\n",
    "    print(\"1. Check Even or Odd\")\n",
    "    print(\"2. Find Factorial\")\n",
    "    print(\"3. Check Palindrome\")\n",
    "    print(\"4. Check Prime\")\n",
    "    print(\"5. Sum of Even and Odd in a Range\")\n",
    "    print(\"6. Factorial Series in a Range\")\n",
    "    print(\"7. Exit\")\n",
    "\n",
    "    choice = int(input(\"\\nEnter your choice (1-7): \"))\n",
    "\n",
    "    if choice == 1:\n",
    "        n = int(input(\"Enter a number: \"))\n",
    "        is_even_or_odd(n)\n",
    "    elif choice == 2:\n",
    "        n = int(input(\"Enter a number: \"))\n",
    "        factorial(n)\n",
    "    elif choice == 3:\n",
    "        n = int(input(\"Enter a number: \"))\n",
    "        is_palindrome(n)\n",
    "    elif choice == 4:\n",
    "        n = int(input(\"Enter a number: \"))\n",
    "        is_prime(n)\n",
    "    elif choice == 5:\n",
    "        start = int(input(\"Enter start of range: \"))\n",
    "        end = int(input(\"Enter end of range: \"))\n",
    "        sum_even_odd(start, end)\n",
    "    elif choice == 6:\n",
    "        start = int(input(\"Enter start of range: \"))\n",
    "        end = int(input(\"Enter end of range: \"))\n",
    "        factorial_series(start, end)\n",
    "    elif choice == 7:\n",
    "        print(\"Exiting the program. Goodbye! \")\n",
    "        break\n",
    "    else:\n",
    "        print(\"Invalid choice. Please select from 1 to 7.\")\n"
   ]
  },
  {
   "cell_type": "markdown",
   "id": "b63a398e-2b8a-4b04-8afd-7d381976f190",
   "metadata": {},
   "source": [
    "### 15TH JULY(TUESDAY)-LIST,ARRAY AND COLLECTIONS"
   ]
  },
  {
   "cell_type": "code",
   "execution_count": 320,
   "id": "01dc3ab3-8c1f-4364-98b1-636ac1552aac",
   "metadata": {},
   "outputs": [
    {
     "name": "stdout",
     "output_type": "stream",
     "text": [
      "3\n",
      "[1, 2, 'emma']\n"
     ]
    }
   ],
   "source": [
    "#LIST IS data structure where we can store any kind of data\n",
    "\n",
    "lst=[]\n",
    "lst.append(1)\n",
    "lst.append(2)\n",
    "lst.append(\"emma\")\n",
    "print(len(lst))\n",
    "print(lst)"
   ]
  },
  {
   "cell_type": "code",
   "execution_count": 324,
   "id": "073f6964-0f5a-4cb5-aac6-a0afd887e706",
   "metadata": {},
   "outputs": [
    {
     "name": "stdout",
     "output_type": "stream",
     "text": [
      "[1, 20, 19, 15, 17, 11, 18, 16, 14, 21, 30]\n"
     ]
    }
   ],
   "source": [
    "lst=[1,20,19,15,17,11,18,16,14,21]\n",
    "lst.append(30)\n",
    "print(lst)"
   ]
  },
  {
   "cell_type": "code",
   "execution_count": 334,
   "id": "dac4452a-0df2-4cdd-b3ff-8871262aac21",
   "metadata": {},
   "outputs": [
    {
     "name": "stdout",
     "output_type": "stream",
     "text": [
      "[1, 11, 14, 15, 16, 17, 18, 19, 20, 21, 30]\n",
      "[30, 21, 20, 19, 18, 17, 16, 15, 14, 11, 1]\n"
     ]
    }
   ],
   "source": [
    "lst.sort()\n",
    "print(lst)\n",
    "lst.sort(reverse=True)\n",
    "print(lst)\n",
    "#same strings as well"
   ]
  },
  {
   "cell_type": "code",
   "execution_count": null,
   "id": "b500a349-4289-4d5d-87bd-78462f01e8c0",
   "metadata": {},
   "outputs": [],
   "source": []
  }
 ],
 "metadata": {
  "kernelspec": {
   "display_name": "Python [conda env:base] *",
   "language": "python",
   "name": "conda-base-py"
  },
  "language_info": {
   "codemirror_mode": {
    "name": "ipython",
    "version": 3
   },
   "file_extension": ".py",
   "mimetype": "text/x-python",
   "name": "python",
   "nbconvert_exporter": "python",
   "pygments_lexer": "ipython3",
   "version": "3.12.7"
  }
 },
 "nbformat": 4,
 "nbformat_minor": 5
}
